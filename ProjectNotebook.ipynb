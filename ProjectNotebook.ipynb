{
 "cells": [
  {
   "cell_type": "markdown",
   "metadata": {},
   "source": [
    "# COGS 18 FINAL PROJECT: AMERICAN CAPITALS GAME QUIZ\n",
    "\n",
    "The following project is a user interactive game, in which the user guesses the capitals of the US states. The game consists of ten questions, and in order to win, the user needs to answer at least seven of the ten questions correctly. The user has the option to quit anytime during the game, and after each round, the score of the user is shown. The user can only miss up to two questions, or else the game ends early and presents the statistics.\n",
    "\n",
    "\n",
    "I think my approach to this project was particularly challenging and difficult for me because I pushed myself beyond the minimal project requirements. In addition to creating functions that built the American Capitals Quiz, I added several small but significant features that improved the user experience. For example, I added an aspect to the randomization so that once a state was randomly selected as a question, it would not be repeated as a question again for the entire round of 10 questions. I also included a counter for the number of correct and incorrect answers to create a more game-like and competitive atmosphere. Adding the feature that the game would end once 3 mistakes were made, was really tricky at first, but it was very rewarding once I was able to figure it out. Lastly, I enjoyed incorporating more interactive and human-like elements such as mentioning a positive comment when they get a question correct!"
   ]
  },
  {
   "cell_type": "code",
   "execution_count": 23,
   "metadata": {},
   "outputs": [],
   "source": [
    "from my_module.myfunctions import *"
   ]
  },
  {
   "cell_type": "code",
   "execution_count": 24,
   "metadata": {},
   "outputs": [
    {
     "name": "stdout",
     "output_type": "stream",
     "text": [
      "Hey you! Let's see how well you know your American capitals! I\n",
      "    will give you ten states and you need to get at least seven of their\n",
      "    capitals correct in order to win!? You ready to play?\n",
      "\n",
      "YOU: no\n",
      "Okay, have a nice day!\n",
      "Question 1: What is the capital of Hawaii?\n",
      "ANSWER: no\n",
      "Nope, that is wrong. The correct capital is Honolulu\n",
      "\n",
      "You have gotten 0 question(s) right and 1 question(s) wrong!\n",
      "\n",
      "Question 2: What is the capital of South Carolina?\n",
      "ANSWER: no\n",
      "Nope, that is wrong. The correct capital is Columbia\n",
      "\n",
      "You have gotten 0 question(s) right and 2 question(s) wrong!\n",
      "\n",
      "Question 3: What is the capital of Oklahoma?\n",
      "ANSWER: no\n",
      "Nope, that is wrong. The correct capital is Oklahoma City\n",
      "\n",
      "Oh no, you missed three questions! You finished with 0 question(s) right and 3 question(s) wrong!\n",
      "Thanks for playing!\n",
      "\n"
     ]
    }
   ],
   "source": [
    "play_game()"
   ]
  }
 ],
 "metadata": {
  "kernelspec": {
   "display_name": "Python 3",
   "language": "python",
   "name": "python3"
  }
 },
 "nbformat": 4,
 "nbformat_minor": 2
}
